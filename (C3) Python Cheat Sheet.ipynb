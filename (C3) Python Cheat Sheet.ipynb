{
  "nbformat": 4,
  "nbformat_minor": 0,
  "metadata": {
    "colab": {
      "name": "Python Cheat Sheet.ipynb",
      "version": "0.3.2",
      "provenance": [],
      "collapsed_sections": [],
      "include_colab_link": true
    },
    "language_info": {
      "codemirror_mode": {
        "name": "ipython",
        "version": 3
      },
      "file_extension": ".py",
      "mimetype": "text/x-python",
      "name": "python",
      "nbconvert_exporter": "python",
      "pygments_lexer": "ipython3",
      "version": "3.6.8"
    },
    "kernelspec": {
      "display_name": "Python 3",
      "language": "python",
      "name": "python3"
    }
  },
  "cells": [
    {
      "cell_type": "markdown",
      "metadata": {
        "id": "view-in-github",
        "colab_type": "text"
      },
      "source": [
        "<a href=\"https://colab.research.google.com/github/Afferent-Learning/Intro-to-the-Machine-Learning-Pipeline/blob/master/(C3)%20Python%20Cheat%20Sheet.ipynb\" target=\"_parent\"><img src=\"https://colab.research.google.com/assets/colab-badge.svg\" alt=\"Open In Colab\"/></a>"
      ]
    },
    {
      "cell_type": "markdown",
      "metadata": {
        "id": "M-S8RDMOUzkj",
        "colab_type": "text"
      },
      "source": [
        "# Python Cheat Sheet\n",
        "\n",
        "Quick note: if you find youself struggling with any part of this notebook, checkout one of the following courses to shape up your Python skills. It is essential that you understand general programming terminology and logic before taking this course. You don't need to be a developer but you should be able to take simple automation ideas and model them using programming."
      ]
    },
    {
      "cell_type": "markdown",
      "metadata": {
        "id": "IJE_LMZZUzkn",
        "colab_type": "text"
      },
      "source": [
        "## Packages, Libraries & Modules\n",
        "---\n",
        "### The Import Statement\n",
        "These import statements allow us to use other people's code in our own program to make it faster for us to make new software. The imported code is referred to as modules, packages, and libraries depending on how they are deigned and how much of the code is imported. For more details you can read [this article](https://knowpapa.com/modpaclib-py/)."
      ]
    },
    {
      "cell_type": "code",
      "metadata": {
        "id": "xrp5QGqGUzko",
        "colab_type": "code",
        "colab": {}
      },
      "source": [
        "import tensorflow as tf\n",
        "import keras\n",
        "import matplotlib as plt\n",
        "import numpy as np\n",
        "from random import randint\n",
        "import sqlite3"
      ],
      "execution_count": 0,
      "outputs": []
    },
    {
      "cell_type": "markdown",
      "metadata": {
        "id": "ez0UrNZEUzkw",
        "colab_type": "text"
      },
      "source": [
        "## Operations and Variables\n",
        "---\n",
        "\n",
        "Run the following cells to familiarize yourself with iPython interpreter. iPython is a very student friendly interpreter that is utilized by both Jupyter and Colab notebooks."
      ]
    },
    {
      "cell_type": "markdown",
      "metadata": {
        "id": "cOOV58FgUzkx",
        "colab_type": "text"
      },
      "source": [
        "### Arithmetic"
      ]
    },
    {
      "cell_type": "code",
      "metadata": {
        "id": "rV0HPfsVUzky",
        "colab_type": "code",
        "colab": {}
      },
      "source": [
        "1+2"
      ],
      "execution_count": 0,
      "outputs": []
    },
    {
      "cell_type": "markdown",
      "metadata": {
        "id": "9yCOZVtAbTex",
        "colab_type": "text"
      },
      "source": [
        "### Modulus Arithmetic"
      ]
    },
    {
      "cell_type": "code",
      "metadata": {
        "id": "t__UOA4ua6nG",
        "colab_type": "code",
        "colab": {}
      },
      "source": [
        "10%3"
      ],
      "execution_count": 0,
      "outputs": []
    },
    {
      "cell_type": "code",
      "metadata": {
        "id": "_ncu43lBa8_m",
        "colab_type": "code",
        "colab": {}
      },
      "source": [
        "9%3"
      ],
      "execution_count": 0,
      "outputs": []
    },
    {
      "cell_type": "code",
      "metadata": {
        "id": "6N8cY7Lea9Ft",
        "colab_type": "code",
        "colab": {}
      },
      "source": [
        "4%5"
      ],
      "execution_count": 0,
      "outputs": []
    },
    {
      "cell_type": "markdown",
      "metadata": {
        "id": "mVZePDtGUzk2",
        "colab_type": "text"
      },
      "source": [
        "### Logic"
      ]
    },
    {
      "cell_type": "code",
      "metadata": {
        "id": "p_CwnbJ6Uzk3",
        "colab_type": "code",
        "colab": {}
      },
      "source": [
        "1 < 3"
      ],
      "execution_count": 0,
      "outputs": []
    },
    {
      "cell_type": "markdown",
      "metadata": {
        "id": "x7SKi3i5Uzk7",
        "colab_type": "text"
      },
      "source": [
        "### Variables"
      ]
    },
    {
      "cell_type": "code",
      "metadata": {
        "id": "F85mRDyGUzk9",
        "colab_type": "code",
        "colab": {}
      },
      "source": [
        "mystring = \"Hello World\"\n",
        "print(mystring)"
      ],
      "execution_count": 0,
      "outputs": []
    },
    {
      "cell_type": "markdown",
      "metadata": {
        "id": "_SNI9wZWUzlZ",
        "colab_type": "text"
      },
      "source": [
        "### Random Values \n",
        "Complete the cell below to produce a random number on a standard dice. We actually imported the function from the random module in the first cell of this notebook. randint(a, b) takes 2 arguments where a is the lowest number you want possible and b is 1 higher than the highest number you want possible. Per the fucntion name, the value produced will be an integer data type.\n"
      ]
    },
    {
      "cell_type": "code",
      "metadata": {
        "id": "D3nloHakUzla",
        "colab_type": "code",
        "colab": {}
      },
      "source": [
        "print (\"Rolling the Dice!\")\n",
        "print (randint())"
      ],
      "execution_count": 0,
      "outputs": []
    },
    {
      "cell_type": "markdown",
      "metadata": {
        "id": "m_E_E0JCbbdr",
        "colab_type": "text"
      },
      "source": [
        "### Data Types"
      ]
    },
    {
      "cell_type": "code",
      "metadata": {
        "id": "6AJQrWzbbZi9",
        "colab_type": "code",
        "colab": {}
      },
      "source": [
        "print(type(100), type('hello'), type(True))"
      ],
      "execution_count": 0,
      "outputs": []
    },
    {
      "cell_type": "markdown",
      "metadata": {
        "id": "Ja0I8fnbUzlF",
        "colab_type": "text"
      },
      "source": [
        "## Conditionals \n",
        "---\n",
        "Conditional statements are absolutely essential to programming. Without them, programming would be reduced to long lists of simple calculations. Conditional statements allow us to impose rules in which certain actions are taken in a more abstracted form than traditional mathematics. In fact, this was one of the main approaches used in artificial intelligence until the relization of multi-layer neural networks.  \n",
        "\n",
        "### A Simple If... Statement"
      ]
    },
    {
      "cell_type": "code",
      "metadata": {
        "id": "hYDw_onWUzlC",
        "colab_type": "code",
        "colab": {}
      },
      "source": [
        "a = 1\n",
        "b = 2\n",
        "if a < b:\n",
        "    print(\"a is less than b and a + b =\", a+b )"
      ],
      "execution_count": 0,
      "outputs": []
    },
    {
      "cell_type": "markdown",
      "metadata": {
        "id": "PG2XlmbebxL7",
        "colab_type": "text"
      },
      "source": [
        "### The If...Else Statement\n",
        "\n",
        "Enter your age for the student_age variable's value and debug the errors that arise. \n",
        "\n",
        "*Hint: Notice the if statements have incomplete logic operations. Think about the what the logic of the series of statements should be and change the code to complete it.*"
      ]
    },
    {
      "cell_type": "code",
      "metadata": {
        "id": "xvt9wjvPUzlH",
        "colab_type": "code",
        "colab": {}
      },
      "source": [
        "from datetime import datetime\n",
        "\n",
        "# Initialize the year variable using the datetime module\n",
        "year = datetime.today().year\n",
        "\n",
        "# You will be prompted to enter the year you anticipate to graduate in\n",
        "graduation_year = input('What year do you think you\\'ll graduate?') \n",
        "\n",
        "\n",
        "if graduation_year - year <= :\n",
        "    print(\"You're probably a Senior!\")\n",
        "elif graduation_year - year ==  :\n",
        "    print(\"You're likely a Junior!\")\n",
        "elif graduation_year - year == :\n",
        "    print(\"You might be a Sophmore!\")\n",
        "else:\n",
        "    print(\"You got a long road ahead!\")"
      ],
      "execution_count": 0,
      "outputs": []
    },
    {
      "cell_type": "markdown",
      "metadata": {
        "id": "mXKEpbF5T-Gd",
        "colab_type": "text"
      },
      "source": [
        "### Nested If... Statements\n",
        "This nested if statement utilizes a logic operation driven by a modulus operation."
      ]
    },
    {
      "cell_type": "code",
      "metadata": {
        "id": "drjQ3xM1UEMI",
        "colab_type": "code",
        "colab": {}
      },
      "source": [
        "if graduation_year % 2 == 0:\n",
        "  \n",
        "  if graduation_year % 10 == 0:\n",
        "    print('Your graduation year is probably 2020')\n",
        "  else:\n",
        "    print('Your graduation year is probably 2022')\n",
        "\n",
        "else:\n",
        "  print('Your graduation year is probably 2021 or 2023')"
      ],
      "execution_count": 0,
      "outputs": []
    },
    {
      "cell_type": "markdown",
      "metadata": {
        "id": "WpmQoSr_dEuR",
        "colab_type": "text"
      },
      "source": [
        "## Types of Loop Statements\n",
        "---\n",
        "There are several types of loop statements. Loop statements are used in nearly every algorithim and essential in learning algorithims. It is important that you are very familiar with loops statements in order to effectively take this course."
      ]
    },
    {
      "cell_type": "markdown",
      "metadata": {
        "id": "4aMm8ZR3UzlN",
        "colab_type": "text"
      },
      "source": [
        "### While Loops\n",
        "Guess my age using the code below \n",
        "\n",
        "*Hint: My age is encrypted using hexidecimal*"
      ]
    },
    {
      "cell_type": "code",
      "metadata": {
        "id": "FbVp8eHtUzlP",
        "colab_type": "code",
        "colab": {}
      },
      "source": [
        "guessed = False\n",
        "\n",
        "myage = int('15', 16)\n",
        "\n",
        "while not guessed:\n",
        "    guess = input(\"Guess my age! (between 20 and 25) \")\n",
        "    if int(guess) ==  myage:\n",
        "        guessed = True\n",
        "\n",
        "print(\"You win!\")"
      ],
      "execution_count": 0,
      "outputs": []
    },
    {
      "cell_type": "markdown",
      "metadata": {
        "id": "Ll1owTclUzlU",
        "colab_type": "text"
      },
      "source": [
        "### For Loops\n",
        "Complete the cell below to iterate *number_of_leaves* times. \n",
        "\n",
        "*Hint: the range function class is missing an argument* "
      ]
    },
    {
      "cell_type": "code",
      "metadata": {
        "id": "y9JdisjMUzlV",
        "colab_type": "code",
        "colab": {}
      },
      "source": [
        "number_of_leaves = 14\n",
        "\n",
        "for x in range():\n",
        "  print(str(x) + \" leaves have fallen.\")\n",
        "\n",
        "print(\"All the leaves fell. For loop complete.\")"
      ],
      "execution_count": 0,
      "outputs": []
    },
    {
      "cell_type": "markdown",
      "metadata": {
        "id": "vBzAdO9BUzld",
        "colab_type": "text"
      },
      "source": [
        "## Functions\n",
        "---\n",
        "Functions can be used to call repeatedly-used routines with a single line of code. They contain all the code previously mentioned, allowing you to create complex routines that can be referenced and repeated using the function's name. Below is 3 sections of code that appear to follow a routine. Your job is to recognize the elements of the routine and design a function to contain it."
      ]
    },
    {
      "cell_type": "code",
      "metadata": {
        "id": "SDMOgF9fd2hf",
        "colab_type": "code",
        "colab": {}
      },
      "source": [
        "petname = \"Spot\"\n",
        "petsound = \"Bark\"\n",
        "numberofsounds = 5\n",
        "\n",
        "print(\"Hello, \" + petname + \"!\")\n",
        "\n",
        "for i in range(numberofsounds):\n",
        "  print(petsound)\n",
        "  \n",
        "print('\\n') #prints a newline character\n",
        "  \n",
        "  \n",
        "\n",
        "petname = \"Fido\"\n",
        "petsound = \"Woof\"\n",
        "numberofsounds = 2\n",
        "\n",
        "print(\"Hello, \" + petname + \"!\")\n",
        "\n",
        "for i in range(numberofsounds):\n",
        "  print(petsound)\n",
        "  \n",
        "print('\\n') #prints a newline character\n",
        "  \n",
        "  \n",
        "\n",
        "petname = \"Whiskers\"\n",
        "petsound = \"Meow\"\n",
        "numberofsounds = 3\n",
        "\n",
        "print(\"Hello, \" + petname + \"!\")\n",
        "\n",
        "for i in range(numberofsounds):\n",
        "  print(petsound)\n",
        "\n",
        "print('\\n') #prints a newline character"
      ],
      "execution_count": 0,
      "outputs": []
    },
    {
      "cell_type": "markdown",
      "metadata": {
        "id": "_bLNLqDi37aw",
        "colab_type": "text"
      },
      "source": [
        "### Design a function\n",
        "\n",
        "* Identify all variables that are different each time. \n",
        " \n",
        "* Who is your pet? \n",
        " \n",
        "* What noise do they make? How many times?\n",
        " \n",
        "* Identify all other sections which repeat, but stay the same. Leave the variable names in the section.\n",
        "\n",
        "* What things we always do, no matter what the name/sound/number are?"
      ]
    },
    {
      "cell_type": "code",
      "metadata": {
        "id": "q_C2NHXwhvNx",
        "colab_type": "code",
        "colab": {}
      },
      "source": [
        "def greetpet( , , ):  # Fill in the blanks with the variable names of things that change.\n",
        "  \n",
        "  \n",
        "  # Fill in this section with the portion that is always the same. Be sure to add 2 indentions at the front of each line!\n",
        "  \n",
        "  print(\"Hello, \" + petname + \"!\")\n",
        "  \n",
        "  # ...\n",
        "  # ...\n",
        "  # ..."
      ],
      "execution_count": 0,
      "outputs": []
    },
    {
      "cell_type": "markdown",
      "metadata": {
        "id": "Y4n1mEZyllkw",
        "colab_type": "text"
      },
      "source": [
        "### Using our Fucntion\n",
        "To call a function we simply need to call it by name and pass values for the arguments neccessary to run our function."
      ]
    },
    {
      "cell_type": "code",
      "metadata": {
        "id": "ABheN_TqiNQN",
        "colab_type": "code",
        "colab": {}
      },
      "source": [
        "# Call the function for Spot, Fido, and Whiskers, as above\n",
        "\n",
        "# The contents of the function will be filled with the values you give it here.\n",
        "\n",
        "greetpet( , , ) # 'Spot', 'Bark', 5\n",
        "greetpet( , , ) # ...\n",
        "greetpet( , , ) # ..."
      ],
      "execution_count": 0,
      "outputs": []
    },
    {
      "cell_type": "markdown",
      "metadata": {
        "id": "kTp5bySsUzlm",
        "colab_type": "text"
      },
      "source": [
        "## Lists / Arrays\n",
        "---\n",
        "The list data type comes with several functions embedded within the class. The following cells will demonstrate how to use these functions. In this section the cells do not contain the functions required to perform them so you may have to look up the functions if you are not familiar.\n",
        "\n",
        "### Indexing\n",
        "Indexing a list is not a functional computation but a specific operation interpreted by iPython. Lists start their index at 0 so to reference the first number we performing the following:\n",
        "\n",
        "`list_of_numbers[0]`\n",
        "\n",
        "Try printing out the element equal to 8 in the lsit below by using the index operation\n",
        "\n"
      ]
    },
    {
      "cell_type": "code",
      "metadata": {
        "id": "uNvbJdLjUzln",
        "colab_type": "code",
        "colab": {}
      },
      "source": [
        "list_of_numbers = [0, 4, 5, 9, 7, 8, 1, 2, 6, 3]\n",
        "list_of_numbers[]"
      ],
      "execution_count": 0,
      "outputs": []
    },
    {
      "cell_type": "markdown",
      "metadata": {
        "id": "jLjAXENtoAvO",
        "colab_type": "text"
      },
      "source": [
        "### Sorting"
      ]
    },
    {
      "cell_type": "code",
      "metadata": {
        "id": "GiovFpiFZtw9",
        "colab_type": "code",
        "colab": {}
      },
      "source": [
        "print(\"List of numbers initially was:\")\n",
        "print(list_of_numbers)\n",
        "\n",
        "# Sort your list here\n",
        "\n",
        "print(\"\\nList of numbers after sorting:\")\n",
        "print(list_of_numbers)"
      ],
      "execution_count": 0,
      "outputs": []
    },
    {
      "cell_type": "markdown",
      "metadata": {
        "id": "XZ3mQpBKoFY_",
        "colab_type": "text"
      },
      "source": [
        "### Appending"
      ]
    },
    {
      "cell_type": "code",
      "metadata": {
        "id": "ifgqBAHVZv5a",
        "colab_type": "code",
        "colab": {}
      },
      "source": [
        "print(\"List of numbers initially was:\")\n",
        "print(list_of_numbers)\n",
        "\n",
        "# Append 999 to your list here\n",
        "\n",
        "print(\"\\nList of numbers after appending 999:\")\n",
        "print(list_of_numbers)"
      ],
      "execution_count": 0,
      "outputs": []
    },
    {
      "cell_type": "markdown",
      "metadata": {
        "id": "q5V-iKOyoKUo",
        "colab_type": "text"
      },
      "source": [
        "### Inserting"
      ]
    },
    {
      "cell_type": "code",
      "metadata": {
        "id": "c6vSAO-IZwXP",
        "colab_type": "code",
        "colab": {}
      },
      "source": [
        "rint(\"List of numbers initially was:\")\n",
        "print(list_of_numbers)\n",
        "\n",
        "# Insert 33 into your list after index 5\n",
        "\n",
        "print(\"\\nList of numbers after inserting -33 between index 5:\")\n",
        "print(list_of_numbers)"
      ],
      "execution_count": 0,
      "outputs": []
    },
    {
      "cell_type": "markdown",
      "metadata": {
        "id": "LzEVGV8EoQ_S",
        "colab_type": "text"
      },
      "source": [
        "### Pop"
      ]
    },
    {
      "cell_type": "code",
      "metadata": {
        "id": "vQr-JgojZwoc",
        "colab_type": "code",
        "colab": {}
      },
      "source": [
        "print(\"List of numbers initially was:\")\n",
        "print(list_of_numbers)\n",
        "\n",
        "# Pop off the last value of your list here\n",
        "\n",
        "print(\"\\nList of numbers after popping last item off:\")\n",
        "print(list_of_numbers)"
      ],
      "execution_count": 0,
      "outputs": []
    },
    {
      "cell_type": "markdown",
      "metadata": {
        "id": "rNJY6no1oU3l",
        "colab_type": "text"
      },
      "source": [
        "### Remove"
      ]
    },
    {
      "cell_type": "code",
      "metadata": {
        "id": "c2VqEyENa3um",
        "colab_type": "code",
        "colab": {}
      },
      "source": [
        "print(\"List of numbers initially was:\")\n",
        "print(list_of_numbers)\n",
        "\n",
        "# Remove all items with value 2 here\n",
        "\n",
        "print(\"\\nList of numbers after removing item with value of 2:\")\n",
        "print(list_of_numbers)"
      ],
      "execution_count": 0,
      "outputs": []
    },
    {
      "cell_type": "markdown",
      "metadata": {
        "id": "cSJ2HGjPUzlr",
        "colab_type": "text"
      },
      "source": [
        "## Optional: Create a Class\n",
        " ---\n",
        "Classes are the basis for Object Oriented Programming (OOP). It is the current all professional development projects are made and they can be quite useful for personal projects as well. It is not neccessary for you to know in order to complete this course but if you are serious about development then you must learn OOP. In this section, we will create a class called Person, which will start by setting the Person's name, age, and height. We can also ask it to tell us its age or height, or tell it to grow a number of inches."
      ]
    },
    {
      "cell_type": "code",
      "metadata": {
        "id": "TzohoLFsUzls",
        "colab_type": "code",
        "colab": {}
      },
      "source": [
        "class Person:\n",
        "  \n",
        "    # These functions belong to the Person object. They are things that people do.\n",
        "    # init with two underscores before and after is the initialization function.\n",
        "    # It runs immediately when you create a new Person, setting its name, age, and\n",
        "    # height.\n",
        "    \n",
        "    # These are all applied to an extension of the new Person\n",
        "    # with the keyword \"self\", because we are talking about\n",
        "    # applying the name, age, and height to oneself. This Person's\n",
        "    # name belongs to themself, they apply the growth to themself, and\n",
        "    # they reference their own name, so they need to look at themself\n",
        "    # for the data.\n",
        "  \n",
        "\n",
        "    def __init__(self, name, age, height):\n",
        "      self.name = name\n",
        "      self.age = age\n",
        "      self.height = height\n",
        "      \n",
        "        \n",
        "    def whatsmyage(self):\n",
        "      print(\"My name is \" + self.name + \" and I am \" + str(self.age) + \" years old.\")\n",
        "      \n",
        "    def whatsmyheight(self):\n",
        "      print(\"I am \" + str(self.height) + \" inches tall.\")\n",
        "      \n",
        "    def grow(self, inches):\n",
        "      self.height = str(self.height + inches)\n",
        "      print(self.name + \" grew \" + str(inches) + \" inches.\")\n",
        "    \n",
        "    # Try adding your own function\n",
        "    \n",
        "    "
      ],
      "execution_count": 0,
      "outputs": []
    },
    {
      "cell_type": "code",
      "metadata": {
        "id": "Yr4YrrUgUzlv",
        "colab_type": "code",
        "colab": {}
      },
      "source": [
        "student = Person('Alex', 15, 65)\n",
        "\n",
        "student.whatsmyage()\n",
        "\n",
        "student.grow(5)\n",
        "\n",
        "student.whatsmyheight()\n",
        "\n",
        "# Call the function that you wrote"
      ],
      "execution_count": 0,
      "outputs": []
    }
  ]
}