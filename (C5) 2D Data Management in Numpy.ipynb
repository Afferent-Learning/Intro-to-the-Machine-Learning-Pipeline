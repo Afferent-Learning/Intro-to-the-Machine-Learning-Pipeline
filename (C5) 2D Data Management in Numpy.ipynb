{
  "nbformat": 4,
  "nbformat_minor": 0,
  "metadata": {
    "colab": {
      "name": "(C5) 2D Data Management in Numpy.ipynb",
      "version": "0.3.2",
      "provenance": [],
      "include_colab_link": true
    },
    "language_info": {
      "codemirror_mode": {
        "name": "ipython",
        "version": 3
      },
      "file_extension": ".py",
      "mimetype": "text/x-python",
      "name": "python",
      "nbconvert_exporter": "python",
      "pygments_lexer": "ipython3",
      "version": "3.6.8"
    },
    "kernelspec": {
      "display_name": "Python 3",
      "language": "python",
      "name": "python3"
    }
  },
  "cells": [
    {
      "cell_type": "markdown",
      "metadata": {
        "id": "view-in-github",
        "colab_type": "text"
      },
      "source": [
        "<a href=\"https://colab.research.google.com/github/Afferent-Learning/Intro-to-the-Machine-Learning-Pipeline/blob/master/(C5)%202D%20Data%20Management%20in%20Numpy.ipynb\" target=\"_parent\"><img src=\"https://colab.research.google.com/assets/colab-badge.svg\" alt=\"Open In Colab\"/></a>"
      ]
    },
    {
      "cell_type": "markdown",
      "metadata": {
        "id": "LLY8tf5Ir_YW",
        "colab_type": "text"
      },
      "source": [
        "# 2 Dimensional Data Management in Numpy\n",
        "This serves as an introduction to *numpy*, and *matrix mathematics*\n",
        "\n",
        "## What's 2D Data Anyways?\n",
        "2D Data is simply data that is referenced by row and column. Think of it like values inside a spreadsheet, or pixels inside and image. By storing data in 2 dimesions we are able to organize information in a way that aids complex analysis techniques we will be using in machine learning.\n",
        "\n",
        "### Common Interchangable Terms\n",
        "\n",
        "- 1D Data = Vector = Array = List = 1 Rank Data\n",
        "\n",
        "- 2D Data = Matrix = 2D Array = 2D List = 2 Rank Data\n",
        "\n",
        "\n",
        "\n",
        "## Python List Operations\n",
        "Before we jump straight into 2D data, let's make sure we fully understand 1D.\n",
        "\n",
        "### Concatenation\n",
        "The '+' operator does not add lists but instead combines them into a longer single list"
      ]
    },
    {
      "cell_type": "code",
      "metadata": {
        "id": "YgUVsfThr_YX",
        "colab_type": "code",
        "colab": {}
      },
      "source": [
        "l1 = [1,2,3,4]\n",
        "l2 = [5,6,7,8]\n",
        "\n",
        "l1 + l2"
      ],
      "execution_count": 0,
      "outputs": []
    },
    {
      "cell_type": "markdown",
      "metadata": {
        "id": "FGnYTsOWr_Ya",
        "colab_type": "text"
      },
      "source": [
        "### Addition\n",
        "In order to perform addition we will have to reference each element in each list. Create l3 by adding each element of l1 and l2 together. Use the append function to initialize the l3 list elements equal to the sum of the elements of l1 and l2 at the same index.\n",
        "\n",
        "*Hint: output should be [6,8,10,12]*"
      ]
    },
    {
      "cell_type": "code",
      "metadata": {
        "id": "cy806I49r_Yb",
        "colab_type": "code",
        "colab": {}
      },
      "source": [
        "l3 = []\n",
        "for i in range(0,len(l1)):\n",
        "    l3.append()\n",
        "\n",
        "l3"
      ],
      "execution_count": 0,
      "outputs": []
    },
    {
      "cell_type": "markdown",
      "metadata": {
        "id": "tT8FnHMWr_Yd",
        "colab_type": "text"
      },
      "source": [
        "### Quick Modulus Reviews\n",
        "Modulus produces an integer remainder of a division of the left number by the right"
      ]
    },
    {
      "cell_type": "code",
      "metadata": {
        "id": "NzwXe-HAr_Yd",
        "colab_type": "code",
        "colab": {}
      },
      "source": [
        "10 % 3"
      ],
      "execution_count": 0,
      "outputs": []
    },
    {
      "cell_type": "code",
      "metadata": {
        "id": "egGHCYY0r_Yf",
        "colab_type": "code",
        "colab": {}
      },
      "source": [
        "10 % 2"
      ],
      "execution_count": 0,
      "outputs": []
    },
    {
      "cell_type": "code",
      "metadata": {
        "id": "foMXYzY7r_Yh",
        "colab_type": "code",
        "colab": {}
      },
      "source": [
        "10 % 5"
      ],
      "execution_count": 0,
      "outputs": []
    },
    {
      "cell_type": "code",
      "metadata": {
        "id": "hOLSegy_r_Yi",
        "colab_type": "code",
        "colab": {}
      },
      "source": [
        "10 % 6"
      ],
      "execution_count": 0,
      "outputs": []
    },
    {
      "cell_type": "code",
      "metadata": {
        "id": "2kVSSsM8r_Yk",
        "colab_type": "code",
        "colab": {}
      },
      "source": [
        "100 % 22"
      ],
      "execution_count": 0,
      "outputs": []
    },
    {
      "cell_type": "markdown",
      "metadata": {
        "id": "aj03X6W8r_Ym",
        "colab_type": "text"
      },
      "source": [
        "### List Comprehension\n",
        "The following line is able to declare a list using looping and conditional statements contained between brackets. In this case, the loop iterates from 1 (inclusive) to 10 (exclusive) and performs a conditional operation. If the remainder of the iteration when divided by 2 is greater than zero, than it is added to the list. This is because Python is based in C. In C a number can be used a truth statement. If the number is equal to 0 the condition is False. If the number is greater than zero the condition is True. Therefore, all odd numbers between 1 and 10 will be added to our list. The else statement simply adds the iteration multiplied by 100."
      ]
    },
    {
      "cell_type": "code",
      "metadata": {
        "id": "LexJ_vAVr_Ym",
        "colab_type": "code",
        "colab": {}
      },
      "source": [
        "l3 += [ x if (x % 2) else (x * 100) for x in range(1, 10) ]\n",
        "l3"
      ],
      "execution_count": 0,
      "outputs": []
    },
    {
      "cell_type": "markdown",
      "metadata": {
        "id": "VpmnPHY5r_Yo",
        "colab_type": "text"
      },
      "source": [
        "## Using Numpy\n",
        "\"Python’s lists are efficient general-purpose containers. They support efficient for insertion, deletion, appending, and concatenation, and Python’s list comprehensions make them easy to construct and manipulate. However, they have certain limitations: they don’t support “vectorized” operations like elementwise addition and multiplication, and the fact that they can contain objects of differing types mean that Python must store type information for every element, and must execute type dispatching code when operating on each element. This also means that very few list operations can be carried out by efficient C loops – each iteration would require type checks and other Python API bookkeeping.\" - [Shivam Kohli](https://www.quora.com/What-are-some-advantages-of-numpy-over-regular-lists-in-Python)\n"
      ]
    },
    {
      "cell_type": "markdown",
      "metadata": {
        "id": "6RgdPhQBr_Yp",
        "colab_type": "text"
      },
      "source": [
        "### NumPy Array Creation"
      ]
    },
    {
      "cell_type": "code",
      "metadata": {
        "id": "fbidC2-Ar_Yq",
        "colab_type": "code",
        "colab": {}
      },
      "source": [
        "import numpy as np\n",
        "\n",
        "arr1 = np.array([1, 2, 3])\n",
        "arr1"
      ],
      "execution_count": 0,
      "outputs": []
    },
    {
      "cell_type": "code",
      "metadata": {
        "id": "jbWTZNih3hf2",
        "colab_type": "code",
        "colab": {}
      },
      "source": [
        "arr3 = np.zeros(5)\n",
        "arr3"
      ],
      "execution_count": 0,
      "outputs": []
    },
    {
      "cell_type": "markdown",
      "metadata": {
        "id": "iiGG2JTPr_Yr",
        "colab_type": "text"
      },
      "source": [
        "### Shape"
      ]
    },
    {
      "cell_type": "code",
      "metadata": {
        "id": "JnNwF2fEr_Ys",
        "colab_type": "code",
        "colab": {}
      },
      "source": [
        "arr1.shape"
      ],
      "execution_count": 0,
      "outputs": []
    },
    {
      "cell_type": "markdown",
      "metadata": {
        "id": "XPgOO5rcr_Yu",
        "colab_type": "text"
      },
      "source": [
        "### List to Array Conversion"
      ]
    },
    {
      "cell_type": "code",
      "metadata": {
        "id": "ArlcoJGor_Yu",
        "colab_type": "code",
        "colab": {}
      },
      "source": [
        "arr2 = np.array(l3)\n",
        "arr2"
      ],
      "execution_count": 0,
      "outputs": []
    },
    {
      "cell_type": "markdown",
      "metadata": {
        "id": "tg1wbLfkr_Yw",
        "colab_type": "text"
      },
      "source": [
        "### Array Indexing and Modifications"
      ]
    },
    {
      "cell_type": "code",
      "metadata": {
        "id": "luxpecsHr_Yx",
        "colab_type": "code",
        "colab": {}
      },
      "source": [
        "print(arr2[0], arr2[3], arr2[6])\n",
        "del_idx = [1,2,3,4] \n",
        "arr2 = np.delete(arr2, del_idx)              \n",
        "arr2          "
      ],
      "execution_count": 0,
      "outputs": []
    },
    {
      "cell_type": "markdown",
      "metadata": {
        "id": "STaS5j7Or_Yz",
        "colab_type": "text"
      },
      "source": [
        "### 1D to 2D Conversion"
      ]
    },
    {
      "cell_type": "code",
      "metadata": {
        "id": "ODJGxPbsr_Yz",
        "colab_type": "code",
        "colab": {}
      },
      "source": [
        "arr_2d = np.reshape(arr2, (-1,3))\n",
        "arr_2d"
      ],
      "execution_count": 0,
      "outputs": []
    },
    {
      "cell_type": "markdown",
      "metadata": {
        "id": "TXHjFCAIr_Y2",
        "colab_type": "text"
      },
      "source": [
        "### Adding Rows"
      ]
    },
    {
      "cell_type": "code",
      "metadata": {
        "id": "8xFp8-Bgr_Y2",
        "colab_type": "code",
        "colab": {}
      },
      "source": [
        "arr_2d = np.vstack((arr_2d, arr1))\n",
        "arr_2d"
      ],
      "execution_count": 0,
      "outputs": []
    },
    {
      "cell_type": "markdown",
      "metadata": {
        "id": "0mG5XlcEr_Y4",
        "colab_type": "text"
      },
      "source": [
        "### Transposing an Array\n",
        "Must convert to a matrix first to use the transpose function"
      ]
    },
    {
      "cell_type": "code",
      "metadata": {
        "id": "X1vZMgRkr_Y4",
        "colab_type": "code",
        "colab": {}
      },
      "source": [
        "arr1 = np.append(arr1, 4)\n",
        "mtx1 = np.matrix(arr1)\n",
        "mtx1 = mtx1.transpose()\n",
        "mtx1"
      ],
      "execution_count": 0,
      "outputs": []
    },
    {
      "cell_type": "markdown",
      "metadata": {
        "id": "GLgKxEgzr_Y6",
        "colab_type": "text"
      },
      "source": [
        "### Adding Columns"
      ]
    },
    {
      "cell_type": "code",
      "metadata": {
        "id": "GqJuD6fgr_Y6",
        "colab_type": "code",
        "colab": {}
      },
      "source": [
        "arr_2d = np.hstack((arr_2d, mtx1))\n",
        "arr_2d"
      ],
      "execution_count": 0,
      "outputs": []
    },
    {
      "cell_type": "markdown",
      "metadata": {
        "id": "E3dxEocyr_Y9",
        "colab_type": "text"
      },
      "source": [
        "## Matrix Mathematics with Numpy\n",
        "\n",
        "### Dot Product\n",
        "\n",
        "The dot product is the what most people refer to when they say matrix multiplication. In this type of multiplication, rows in the left matrix are multiplied by the columns in the right matrix and the products of each element are added together. In order for two matrices to be multiplied the right matrix must have the same number or columns as the left matrix has rows.\n",
        "\n",
        "![Dot Product](https://drive.google.com/uc?export=view&id=1ieCBD4WQeMIHkDwvZzDa2W1k-q2xFeLY)\n",
        "\n",
        "Let's try performing the dot product on a pair of vectors."
      ]
    },
    {
      "cell_type": "code",
      "metadata": {
        "id": "0JELC_Jnr_Y9",
        "colab_type": "code",
        "colab": {}
      },
      "source": [
        "a = np.array([1,2,3])\n",
        "b = np.array([4,5,6])\n",
        "c = np.dot(a,b)\n",
        "c"
      ],
      "execution_count": 0,
      "outputs": []
    },
    {
      "cell_type": "markdown",
      "metadata": {
        "id": "-psGB9gNr_Y_",
        "colab_type": "text"
      },
      "source": [
        "### Transposing 2D Data\n",
        "Notice that **a** did not have the same number of columns as **b**. Luckily NumPy recognizes this and automatically transposes b to have the correct dimensions before calculating the dot product. Let's see if it does the same thing with a matrix. You should see an error saying that that the shapes are not aligned, try **transposing** matrix **b** to align the shapes"
      ]
    },
    {
      "cell_type": "code",
      "metadata": {
        "id": "FuCsMwSSr_Y_",
        "colab_type": "code",
        "colab": {}
      },
      "source": [
        "a = np.matrix([[1,2,3],[4,5,6]])\n",
        "b = np.matrix([[6,5,4],[3,2,1]])\n",
        "c = np.dot(a,b)\n",
        "c"
      ],
      "execution_count": 0,
      "outputs": []
    },
    {
      "cell_type": "markdown",
      "metadata": {
        "id": "hUEsVy4nr_ZC",
        "colab_type": "text"
      },
      "source": [
        "### Hadamard Product\n",
        "\n",
        "The Hadamard Product is a lot more simple of a concept compared to the dot product. In this case the matrices must be the **same** shape and you simply multiply each element from the left matrix with the element in the corresponding location in the right matrix\n",
        "\n",
        "![hadamard_product.png](https://drive.google.com/uc?export=view&id=1NLeBfJII1acRSeAx38U51XR9ay63aTlS)\n",
        "\n",
        "Use the **multiply** function from NumPy to multiply the two matrices declared in the previous cell"
      ]
    },
    {
      "cell_type": "code",
      "metadata": {
        "id": "jGDmklaNr_ZC",
        "colab_type": "code",
        "colab": {}
      },
      "source": [
        "b = b.transpose()\n",
        "c = np.multiply(a, b)\n",
        "c"
      ],
      "execution_count": 0,
      "outputs": []
    },
    {
      "cell_type": "markdown",
      "metadata": {
        "id": "pVuiUZT3r_ZG",
        "colab_type": "text"
      },
      "source": [
        "Now make two arrays *a and b* using NumPy, multiply them by the Haramad product, and store the result to *c*"
      ]
    },
    {
      "cell_type": "code",
      "metadata": {
        "id": "xMBaT3SQr_ZG",
        "colab_type": "code",
        "colab": {}
      },
      "source": [
        "a = \n",
        "b = \n",
        "c = \n",
        "c"
      ],
      "execution_count": 0,
      "outputs": []
    }
  ]
}