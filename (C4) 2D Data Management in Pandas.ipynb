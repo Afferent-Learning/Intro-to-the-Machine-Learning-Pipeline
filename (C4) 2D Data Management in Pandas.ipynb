{
  "nbformat": 4,
  "nbformat_minor": 0,
  "metadata": {
    "colab": {
      "name": "(C4) 2D Data Management in Pandas.ipynb",
      "version": "0.3.2",
      "provenance": [],
      "collapsed_sections": [],
      "toc_visible": true,
      "include_colab_link": true
    },
    "kernelspec": {
      "name": "python3",
      "display_name": "Python 3"
    }
  },
  "cells": [
    {
      "cell_type": "markdown",
      "metadata": {
        "id": "view-in-github",
        "colab_type": "text"
      },
      "source": [
        "<a href=\"https://colab.research.google.com/github/Afferent-Learning/Intro-to-the-Machine-Learning-Pipeline/blob/master/(C4)%202D%20Data%20Management%20in%20Pandas.ipynb\" target=\"_parent\"><img src=\"https://colab.research.google.com/assets/colab-badge.svg\" alt=\"Open In Colab\"/></a>"
      ]
    },
    {
      "cell_type": "markdown",
      "metadata": {
        "id": "fBwJaKM6FxiS",
        "colab_type": "text"
      },
      "source": [
        "# 2 Dimensional Data Management - Part 1\n",
        "\n",
        "\n",
        "This serves as an introduction to pandas, csv files, and image processing\n",
        "\n",
        "## CSV Files :  In the time before Excel..\n",
        "---\n",
        "CSV or Comma Seperated Values files were the orginal way in which row and column data was stored and shared. In fact, almost all spreadshseet software still has an option to export the sheet to a CSV file. Many of the datasets you will have access to for both these lessons and your projects will be in the form of CSV. Because of this, it is important for us to learn about Python's most popular spreadsheet library: **Pandas**.\n",
        "\n",
        "### Temporary file upload using linux\n",
        "Before we get started with Pandas, lets go over some useful command you can use to control your notebook's server envrionment. If you don't have any reason to store a file you are working on inside your Google Drive, you can upload it to the Colab server through a variety of techniques. The following technique utilizes the Ubuntu operating system inside the Colab server. To run  linux commands on the server, simply insert an exclamation point at the beginning of your command and run it in a cell. Run the cell below to download the file we will be using in this tutorial directly from Github. Once you disconnect from this runtime, the file will be automatically deleted, saving you the hassle of managing your space"
      ]
    },
    {
      "cell_type": "code",
      "metadata": {
        "id": "-Mb-Gry6TfT6",
        "colab_type": "code",
        "colab": {}
      },
      "source": [
        "!wget https://raw.githubusercontent.com/intro-to-the-machine-learning-pipeline/Multidimensional-Data-Processing/master/Beatles.csv"
      ],
      "execution_count": 0,
      "outputs": []
    },
    {
      "cell_type": "markdown",
      "metadata": {
        "id": "ffFvnb_T2dnG",
        "colab_type": "text"
      },
      "source": [
        "Once the above cell is complete, run the cell below to  verify the Beatles.csv file exists inside your current working directory."
      ]
    },
    {
      "cell_type": "code",
      "metadata": {
        "id": "Jp3C6VaS0-FO",
        "colab_type": "code",
        "colab": {}
      },
      "source": [
        "!ls"
      ],
      "execution_count": 0,
      "outputs": []
    },
    {
      "cell_type": "markdown",
      "metadata": {
        "id": "itmSZROGpFyc",
        "colab_type": "text"
      },
      "source": [
        "## Processing a CSV file with Pandas\n",
        "---\n",
        "Pandas is an incredibly popular Python library primarily used to create dataframes objects. These objects contain incredibly useful functions which will allow us to view, sort, and analyze our data with ease. First run the cell below to import the Pandas library."
      ]
    },
    {
      "cell_type": "code",
      "metadata": {
        "id": "uIVnIzocl_ss",
        "colab_type": "code",
        "colab": {}
      },
      "source": [
        "import pandas as pd"
      ],
      "execution_count": 0,
      "outputs": []
    },
    {
      "cell_type": "markdown",
      "metadata": {
        "id": "Ha0O2jCR9kLD",
        "colab_type": "text"
      },
      "source": [
        "Now let's use the **read_csv** function to create a new dataframe named **df** from our Beatles.csv file by running the cell below."
      ]
    },
    {
      "cell_type": "code",
      "metadata": {
        "id": "iskejp66pKxI",
        "colab_type": "code",
        "colab": {}
      },
      "source": [
        "df = pd.read_csv('Beatles.csv')"
      ],
      "execution_count": 0,
      "outputs": []
    },
    {
      "cell_type": "markdown",
      "metadata": {
        "id": "DHmj6jCNpb7q",
        "colab_type": "text"
      },
      "source": [
        "In a notebook, just like in a python shell, you can simply run the name of a variable and its value you will be returned as the output. In the cell below, call your dataframe by its variable name.\n",
        "\n",
        "\n"
      ]
    },
    {
      "cell_type": "code",
      "metadata": {
        "id": "5Uc8YOF1pLui",
        "colab_type": "code",
        "cellView": "code",
        "colab": {}
      },
      "source": [
        ""
      ],
      "execution_count": 0,
      "outputs": []
    },
    {
      "cell_type": "markdown",
      "metadata": {
        "id": "PoTodfGXHPml",
        "colab_type": "text"
      },
      "source": [
        "Now let's do some simple row and column analysis. To display a column's value, simply use the column header as an index as if you were indexing the dataframe as an array. Here's a quick array indexing refresher:\n",
        "```python\n",
        "a = [1,2,3,4] # declares an array\n",
        "a[0] == 1 # returns True because the value stored at index 0 in the array is 1\n",
        "a[2] == 2 # returns False beacase the value stored at index 2 in the array is 3\n",
        "```"
      ]
    },
    {
      "cell_type": "code",
      "metadata": {
        "id": "4VSCo_ILHWUX",
        "colab_type": "code",
        "colab": {}
      },
      "source": [
        ""
      ],
      "execution_count": 0,
      "outputs": []
    },
    {
      "cell_type": "markdown",
      "metadata": {
        "id": "7AdVyS7CIvkO",
        "colab_type": "text"
      },
      "source": [
        "Ok so now that you've gotten a hang of columns, let's do some computation. First, let's figure out what datatype we are working with when we use a column."
      ]
    },
    {
      "cell_type": "code",
      "metadata": {
        "id": "EztVzMXyKCVs",
        "colab_type": "code",
        "colab": {}
      },
      "source": [
        "type(df['Name'])"
      ],
      "execution_count": 0,
      "outputs": []
    },
    {
      "cell_type": "markdown",
      "metadata": {
        "id": "m0Pk3npUKHZX",
        "colab_type": "text"
      },
      "source": [
        "As you can see, columns are stored as Series objects. Using what we've learned and referencing the [Pandas API](https://pandas.pydata.org/pandas-docs/stable/reference/series.html), use the **sum** function / computation to calculate the total number of autographs the Beatles have signed according to our dataframe (Correct answer is 45)"
      ]
    },
    {
      "cell_type": "code",
      "metadata": {
        "id": "5KIu_WvwKjD5",
        "colab_type": "code",
        "colab": {}
      },
      "source": [
        ""
      ],
      "execution_count": 0,
      "outputs": []
    },
    {
      "cell_type": "markdown",
      "metadata": {
        "id": "MU01CPnrNVJx",
        "colab_type": "text"
      },
      "source": [
        "### Pro Tip!\n",
        "\n",
        "Whenever you are stuck on a problem while programming it is a good idea to verify the datatype(s) that you are currently working with and consult the library's API before you try to write a function or computation from scratch. This will save you lot's of times in debugging and help you be more specific about your problem if you fell the need to publish it to a forum like [Stack Overflow](https://www.stackoverflow.com)"
      ]
    },
    {
      "cell_type": "markdown",
      "metadata": {
        "id": "DHecDfmtK7Cr",
        "colab_type": "text"
      },
      "source": [
        "## Constructing a Pandas Dataframe from Scratch\n",
        "---\n",
        "Now we will learn to create our own dataframe using the Python dictionary datatype. First, copy and paste the dictionary declaration below into the next cell.\n",
        "\n",
        "```python\n",
        "data = {\n",
        "    'apples': [300, 200, 30, 100], \n",
        "    'oranges': [30, 300, 700, 200],\n",
        "    'pears': [20, 500, 600, 50]\n",
        "}\n",
        "```"
      ]
    },
    {
      "cell_type": "code",
      "metadata": {
        "id": "mgpozrg_Qpz4",
        "colab_type": "code",
        "colab": {}
      },
      "source": [
        ""
      ],
      "execution_count": 0,
      "outputs": []
    },
    {
      "cell_type": "markdown",
      "metadata": {
        "id": "blWR0-ldQpJw",
        "colab_type": "text"
      },
      "source": [
        "Now that our data is stored to a variable, let's use it as a parameter for a new dataframe object named *fruit_yields* by running the cell below."
      ]
    },
    {
      "cell_type": "code",
      "metadata": {
        "id": "ERsot9rKmnvs",
        "colab_type": "code",
        "colab": {}
      },
      "source": [
        "fruit_yields = pd.DataFrame(data, index=['Spring', 'Summer', 'Fall', 'Winter'])\n",
        "fruit_yields"
      ],
      "execution_count": 0,
      "outputs": []
    },
    {
      "cell_type": "markdown",
      "metadata": {
        "id": "dF3oiGAIRBOK",
        "colab_type": "text"
      },
      "source": [
        "It can now be infered that the list of strings used for the index parameters intialized row header values for our *fruit_yields* dataframe. Using the **loc** function, you can get elements by row or column by refrencing its index name. Try extracting the elements from the row labeled 'Summer' and saving them to a variable named *summer_yields* "
      ]
    },
    {
      "cell_type": "code",
      "metadata": {
        "id": "16Y2pjYkmo6c",
        "colab_type": "code",
        "colab": {}
      },
      "source": [
        "summer_yields = fruit_yields.loc[]\n",
        "summer_yields"
      ],
      "execution_count": 0,
      "outputs": []
    },
    {
      "cell_type": "markdown",
      "metadata": {
        "id": "TUXYjcRknpPg",
        "colab_type": "text"
      },
      "source": [
        "Now try extracting the elements from the 'apples' column of our DataFrame and saving them to a variable named *apple_yields*"
      ]
    },
    {
      "cell_type": "code",
      "metadata": {
        "id": "YWdQvIjanoNH",
        "colab_type": "code",
        "colab": {}
      },
      "source": [
        ""
      ],
      "execution_count": 0,
      "outputs": []
    },
    {
      "cell_type": "markdown",
      "metadata": {
        "id": "PD5uDPV3q7Eh",
        "colab_type": "text"
      },
      "source": [
        "### Basic Data Plotting\n",
        "By using the **plot.bar** function we can analyze our data using a bar graph"
      ]
    },
    {
      "cell_type": "code",
      "metadata": {
        "id": "QhzXnUp3q7ZW",
        "colab_type": "code",
        "colab": {}
      },
      "source": [
        "df.index = df['Name']\n",
        "ax = df.plot.bar(rot=0)\n",
        "ax.set_ylabel('Count', color='white')\n",
        "ax.set_xlabel('Artist', color='white')\n",
        "ax.tick_params(colors='white')"
      ],
      "execution_count": 0,
      "outputs": []
    },
    {
      "cell_type": "markdown",
      "metadata": {
        "id": "Y84VuBBUrVZX",
        "colab_type": "text"
      },
      "source": [
        "Try plotting the fruit_yields DataFrame"
      ]
    },
    {
      "cell_type": "code",
      "metadata": {
        "id": "AEMUX335roIG",
        "colab_type": "code",
        "colab": {}
      },
      "source": [
        "fruit_yields"
      ],
      "execution_count": 0,
      "outputs": []
    },
    {
      "cell_type": "markdown",
      "metadata": {
        "id": "dB3X3vcCU0WG",
        "colab_type": "text"
      },
      "source": [
        "That completes Chapter 4, in our next lesson we will begin visually analyzing dataframes using more advanced libraries like **matplotlib** and **seaborn**"
      ]
    }
  ]
}